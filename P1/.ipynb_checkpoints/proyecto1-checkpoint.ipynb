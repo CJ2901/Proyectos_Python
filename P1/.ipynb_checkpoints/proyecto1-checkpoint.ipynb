{
 "cells": [
  {
   "cell_type": "markdown",
   "metadata": {},
   "source": [
    "___\n",
    "\n",
    "<a href='https://www.linkedin.com/in/c-magallanes-j'><img src='../P1/p1_wallpaper.png'/></a>\n",
    "___\n",
    "<center><em>Contenido elaborado en Jupyter Notebook</em></center>"
   ]
  },
  {
   "cell_type": "markdown",
   "metadata": {},
   "source": [
    "# Proyecto michi, tres en línea o tic tac toe en inglés\n",
    "\n",
    "Los requisitos son :\n",
    "\n",
    "* Que 2 personas puedan jugar (ambos sentados en el mismo ordenador)\n",
    "* Que el tablero se imprima cada vez un jugador haga un movimiento\n",
    "* Que, a través un input, se ingrese una posición tal que se convierta en un símbolo en el tablero"
   ]
  },
  {
   "cell_type": "markdown",
   "metadata": {},
   "source": [
    "## Paso 1\n",
    "Función imprime un tablero. El argumento será una lista, donde los números del 1-9 correspondan a cada posición del tablero"
   ]
  },
  {
   "cell_type": "code",
   "execution_count": 1,
   "metadata": {},
   "outputs": [],
   "source": [
    "from IPython.display import clear_output\n",
    "\n",
    "def muestra_tablero(tablero):\n",
    "    clear_output()  # Solo funciona en Jupyter\n",
    "    \n",
    "    print('   |   |')\n",
    "    print(' ' + tablero[1] + ' | ' + tablero[2] + ' | ' + tablero[3])\n",
    "    print('   |   |')\n",
    "    print('-----------')\n",
    "    print('   |   |')\n",
    "    print(' ' + tablero[4] + ' | ' + tablero[5] + ' | ' + tablero[6])\n",
    "    print('   |   |')\n",
    "    print('-----------')\n",
    "    print('   |   |')\n",
    "    print(' ' + tablero[7] + ' | ' + tablero[8] + ' | ' + tablero[9])\n",
    "    print('   |   |')"
   ]
  },
  {
   "cell_type": "markdown",
   "metadata": {},
   "source": [
    "## Paso 2\n",
    "Función registra la respuesta de un usuario, y asigna un signo 'X' o 'O' según corresponda"
   ]
  },
  {
   "cell_type": "code",
   "execution_count": 2,
   "metadata": {},
   "outputs": [],
   "source": [
    "def input_signo():\n",
    "    signo = ''\n",
    "    \n",
    "    while not (signo == 'X' or signo == 'O'):\n",
    "        signo = input('Jugador 1: ¿Quiere ser X o O? ').upper()\n",
    "\n",
    "    if signo == 'X':\n",
    "        return ('X', 'O')\n",
    "    else:\n",
    "        return ('O', 'X')"
   ]
  },
  {
   "cell_type": "markdown",
   "metadata": {},
   "source": [
    "## Paso 3\n",
    "Función asigna posición que desea el jugador, en el tablero"
   ]
  },
  {
   "cell_type": "code",
   "execution_count": 3,
   "metadata": {},
   "outputs": [],
   "source": [
    "def ubica_signo(tablero, signo, posicion):\n",
    "    tablero[posicion] = signo"
   ]
  },
  {
   "cell_type": "markdown",
   "metadata": {},
   "source": [
    "## Paso 4\n",
    "Función verifica si alguien ganó"
   ]
  },
  {
   "cell_type": "code",
   "execution_count": 4,
   "metadata": {},
   "outputs": [],
   "source": [
    "def revisa_ganador(tablero,signo):\n",
    "    \n",
    "    return ((tablero[7] == signo and tablero[8] == signo and tablero[9] == signo) or # línea horizontal 1\n",
    "    (tablero[4] == signo and tablero[5] == signo and tablero[6] == signo) or # línea horizontal 2\n",
    "    (tablero[1] == signo and tablero[2] == signo and tablero[3] == signo) or # línea horizontal 3\n",
    "    (tablero[7] == signo and tablero[4] == signo and tablero[1] == signo) or # línea vertical 1\n",
    "    (tablero[8] == signo and tablero[5] == signo and tablero[2] == signo) or # línea vertical 2\n",
    "    (tablero[9] == signo and tablero[6] == signo and tablero[3] == signo) or # línea vertical 3\n",
    "    (tablero[7] == signo and tablero[5] == signo and tablero[3] == signo) or # diagonal 1\n",
    "    (tablero[9] == signo and tablero[5] == signo and tablero[1] == signo)) # diagonal 2"
   ]
  },
  {
   "cell_type": "markdown",
   "metadata": {},
   "source": [
    "## Paso 5\n",
    "Función decide, de manera aleatoria, qué jugador comienza primero"
   ]
  },
  {
   "cell_type": "code",
   "execution_count": 5,
   "metadata": {},
   "outputs": [],
   "source": [
    "import random\n",
    "\n",
    "def elige_primer_turno():\n",
    "    if random.randint(0, 1) == 0:\n",
    "        return 'Jugador 2'\n",
    "    else:\n",
    "        return 'Jugador 1'"
   ]
  },
  {
   "cell_type": "markdown",
   "metadata": {},
   "source": [
    "## Paso 6\n",
    "Función retorna un booleano indicando si hay un espacio vacío disponible"
   ]
  },
  {
   "cell_type": "code",
   "execution_count": 6,
   "metadata": {},
   "outputs": [],
   "source": [
    "def revisa_espacio(tablero, posicion):\n",
    "    \n",
    "    return tablero[posicion] == ' '"
   ]
  },
  {
   "cell_type": "markdown",
   "metadata": {},
   "source": [
    "## Paso 7\n",
    "Función revisa si el tablero está lleno, y en ese caso retorna un valor booleano, True si está vacío, de otra manera falso"
   ]
  },
  {
   "cell_type": "code",
   "execution_count": 7,
   "metadata": {},
   "outputs": [],
   "source": [
    "def revisa_tablero_lleno(tablero):\n",
    "    for i in range(1,10):\n",
    "        if revisa_espacio(tablero, i):\n",
    "            return False\n",
    "    return True"
   ]
  },
  {
   "cell_type": "markdown",
   "metadata": {},
   "source": [
    "## Paso 8\n",
    "Función consulta por la siguiente posición del jugador, y usa la función del paso 6 para veificar si es una posición libre. Si lo fuese, retorna la posición para uso posterior"
   ]
  },
  {
   "cell_type": "code",
   "execution_count": 8,
   "metadata": {},
   "outputs": [],
   "source": [
    "def eleccion_jugador(tablero):\n",
    "    posicion = 0\n",
    "    \n",
    "    while posicion not in [1,2,3,4,5,6,7,8,9] or not revisa_espacio(tablero, posicion):\n",
    "        posicion = int(input('Elija la posicion: (1-9) '))\n",
    "        \n",
    "    return posicion"
   ]
  },
  {
   "cell_type": "markdown",
   "metadata": {},
   "source": [
    "## Paso 9\n",
    "Función consulta al jugador si quieren jugar nuevamente, y retorna un valor booleano True si quieren jugar nuevamente"
   ]
  },
  {
   "cell_type": "code",
   "execution_count": 9,
   "metadata": {},
   "outputs": [],
   "source": [
    "def revancha():\n",
    "    \n",
    "    return input('¿Quiere jugar nuevamente? Ingrese Sí o No: ').lower().startswith('s')"
   ]
  },
  {
   "cell_type": "markdown",
   "metadata": {},
   "source": [
    "## Paso 10\n",
    "Se unen todas las funciones"
   ]
  },
  {
   "cell_type": "code",
   "execution_count": 10,
   "metadata": {},
   "outputs": [
    {
     "name": "stdout",
     "output_type": "stream",
     "text": [
      "   |   |\n",
      " X | X | O\n",
      "   |   |\n",
      "-----------\n",
      "   |   |\n",
      " X | O |  \n",
      "   |   |\n",
      "-----------\n",
      "   |   |\n",
      " O |   |  \n",
      "   |   |\n",
      "¡Felicidades Ganador 2, haz ganado el juego!\n",
      "¿Quiere jugar nuevamente? Ingrese Sí o No: No\n"
     ]
    }
   ],
   "source": [
    "print('¡Bienvenido al juego de Tres líneas!')\n",
    "print()\n",
    "\n",
    "while True:\n",
    "    # Reinicia el tablero\n",
    "    elTablero = [' '] * 10\n",
    "    signo_jugador1, signo_jugador2 = input_signo()\n",
    "    turno = elige_primer_turno()\n",
    "    print('Signo del Jugador 1: ' + signo_jugador1 + ' .Signo del Jugador 2: '+ signo_jugador2)\n",
    "    print('------------------------------------------------------------------')\n",
    "    print(turno + ' comienza.')\n",
    "    \n",
    "    empieza_juego = input('¿Listo para comenzar? Ingrese Sí o No.')\n",
    "    \n",
    "    if empieza_juego.lower()[0] == 's':\n",
    "        juego_inicia = True\n",
    "    else:\n",
    "        juego_inicia = False\n",
    "\n",
    "    while juego_inicia:\n",
    "        if turno == 'Jugador 1':\n",
    "            # Turno del jugador #1\n",
    "            \n",
    "            muestra_tablero(elTablero)\n",
    "            posicion = eleccion_jugador(elTablero)\n",
    "            ubica_signo(elTablero, signo_jugador1, posicion)\n",
    "\n",
    "            if revisa_ganador(elTablero, signo_jugador1):\n",
    "                muestra_tablero(elTablero)\n",
    "                print('¡Felicidades Ganador 1, haz ganado el juego!')\n",
    "                juego_inicia = False\n",
    "            else:\n",
    "                if revisa_tablero_lleno(elTablero):\n",
    "                    muestra_tablero(elTablero)\n",
    "                    print('¡EMPATE!')\n",
    "                    break\n",
    "                else:\n",
    "                    turno = 'Jugador 2'\n",
    "\n",
    "        else:\n",
    "            # Turno del jugador #2\n",
    "            \n",
    "            muestra_tablero(elTablero)\n",
    "            posicion = eleccion_jugador(elTablero)\n",
    "            ubica_signo(elTablero, signo_jugador2, posicion)\n",
    "\n",
    "            if revisa_ganador(elTablero, signo_jugador2):\n",
    "                muestra_tablero(elTablero)\n",
    "                print('¡Felicidades Ganador 2, haz ganado el juego!')\n",
    "                juego_inicia = False\n",
    "            else:\n",
    "                if revisa_tablero_lleno(elTablero):\n",
    "                    muestra_tablero(elTablero)\n",
    "                    print('¡EMPATE!')\n",
    "                    break\n",
    "                else:\n",
    "                    turno = 'Jugador 1'\n",
    "\n",
    "    if not revancha():\n",
    "        break"
   ]
  }
 ],
 "metadata": {
  "kernelspec": {
   "display_name": "Python 3",
   "language": "python",
   "name": "python3"
  },
  "language_info": {
   "codemirror_mode": {
    "name": "ipython",
    "version": 3
   },
   "file_extension": ".py",
   "mimetype": "text/x-python",
   "name": "python",
   "nbconvert_exporter": "python",
   "pygments_lexer": "ipython3",
   "version": "3.8.5"
  }
 },
 "nbformat": 4,
 "nbformat_minor": 4
}
